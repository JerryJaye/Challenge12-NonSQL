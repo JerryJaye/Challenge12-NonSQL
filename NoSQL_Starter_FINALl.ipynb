{
 "cells": [
  {
   "cell_type": "markdown",
   "id": "9a57c4c6",
   "metadata": {},
   "source": [
    "# Eat Safe, Love"
   ]
  },
  {
   "cell_type": "markdown",
   "id": "064ef857",
   "metadata": {},
   "source": [
    "## Part 1: Database and Jupyter Notebook Set Up"
   ]
  },
  {
   "cell_type": "markdown",
   "id": "fb32ccca",
   "metadata": {},
   "source": [
    "#### 1. Import the data provided in the establishments.json file\n",
    "####    Copy the text you used to import your data from your Terminal "
   ]
  },
  {
   "cell_type": "markdown",
   "id": "a9c79156",
   "metadata": {},
   "source": [
    "Import the data provided in the `establishments.json` file from your Terminal. Name the database `uk_food` and the collection `establishments`.\n",
    "\n",
    "Within this markdown cell, copy the line of text you used to import the data from your Terminal. This way, future analysts will be able to repeat your process.\n",
    "\n",
    "e.g.: Import the dataset with `mongoimport --db uk_food --collection establishments --file establishments.json --jsonArray`"
   ]
  },
  {
   "cell_type": "markdown",
   "id": "088835ea",
   "metadata": {},
   "source": [
    "#### 2. Import dependencies"
   ]
  },
  {
   "cell_type": "code",
   "execution_count": 4,
   "id": "3ecdd008",
   "metadata": {},
   "outputs": [],
   "source": [
    "# Import dependencies\n",
    "from pymongo import MongoClient\n",
    "from pprint import pprint\n",
    "from decimal import Decimal"
   ]
  },
  {
   "cell_type": "markdown",
   "id": "2428113b",
   "metadata": {},
   "source": [
    "#### 3.Create an instance of the Mongo Client."
   ]
  },
  {
   "cell_type": "code",
   "execution_count": 5,
   "id": "59390c4a",
   "metadata": {},
   "outputs": [],
   "source": [
    "# Create an instance of MongoClient\n",
    "mongo = MongoClient(port=27017)"
   ]
  },
  {
   "cell_type": "markdown",
   "id": "80fe2478",
   "metadata": {},
   "source": [
    "#### 4.  Confirm that database uk_food created successfully, and data loaded correctly."
   ]
  },
  {
   "cell_type": "code",
   "execution_count": 6,
   "id": "7f9ececa",
   "metadata": {},
   "outputs": [
    {
     "name": "stdout",
     "output_type": "stream",
     "text": [
      "['admin', 'autosaurus', 'classDB', 'config', 'epa', 'fruits_db', 'local', 'met', 'petsitly_marketing', 'uk_food']\n"
     ]
    }
   ],
   "source": [
    "# confirm that our new database was created\n",
    "print(mongo.list_database_names())"
   ]
  },
  {
   "cell_type": "code",
   "execution_count": 7,
   "id": "71e373c1",
   "metadata": {},
   "outputs": [],
   "source": [
    "# assign the uk_food database to a variable name\n",
    "db = mongo['uk_food']"
   ]
  },
  {
   "cell_type": "code",
   "execution_count": 8,
   "id": "ef1b89ed",
   "metadata": {},
   "outputs": [],
   "source": [
    "# review the collections in our new database\n",
    "collections = db.list_collection_names()"
   ]
  },
  {
   "cell_type": "code",
   "execution_count": 9,
   "id": "18ab463c",
   "metadata": {},
   "outputs": [
    {
     "name": "stdout",
     "output_type": "stream",
     "text": [
      "Collections in the 'uk_food' database:\n",
      "establishments\n"
     ]
    }
   ],
   "source": [
    "# review the collections in our new database\n",
    "print(\"Collections in the 'uk_food' database:\")\n",
    "for collection in collections:\n",
    "    print(collection)"
   ]
  },
  {
   "cell_type": "markdown",
   "id": "958e3913",
   "metadata": {},
   "source": [
    "#### 5.  Assign the establishments collection to a variable to prepare the collection for use"
   ]
  },
  {
   "cell_type": "code",
   "execution_count": 10,
   "id": "11c9f11b",
   "metadata": {},
   "outputs": [],
   "source": [
    "# assign the collection to a variable\n",
    "establishments = db['establishments']"
   ]
  },
  {
   "cell_type": "markdown",
   "id": "0dfb5fc7",
   "metadata": {},
   "source": [
    "#### Output one 'document' from 'establishments' collection."
   ]
  },
  {
   "cell_type": "code",
   "execution_count": 11,
   "id": "2fb80bf8",
   "metadata": {
    "scrolled": true
   },
   "outputs": [
    {
     "name": "stdout",
     "output_type": "stream",
     "text": [
      "{'AddressLine1': 'Wear Bay Road',\n",
      " 'AddressLine2': 'Folkestone',\n",
      " 'AddressLine3': 'Kent',\n",
      " 'AddressLine4': '',\n",
      " 'BusinessName': 'Wear Bay Bowls Club',\n",
      " 'BusinessType': 'Pub/bar/nightclub',\n",
      " 'BusinessTypeID': 7843,\n",
      " 'ChangesByServerID': 0,\n",
      " 'Distance': 4591.821311183521,\n",
      " 'FHRSID': 647177,\n",
      " 'LocalAuthorityBusinessID': 'PI/000041489',\n",
      " 'LocalAuthorityCode': '188',\n",
      " 'LocalAuthorityEmailAddress': 'foodteam@folkestone-hythe.gov.uk',\n",
      " 'LocalAuthorityName': 'Folkestone and Hythe',\n",
      " 'LocalAuthorityWebSite': 'http://www.folkestone-hythe.gov.uk',\n",
      " 'NewRatingPending': False,\n",
      " 'Phone': '',\n",
      " 'PostCode': 'CT19 6PY',\n",
      " 'RatingDate': '2014-03-31T00:00:00',\n",
      " 'RatingKey': 'fhrs_4_en-gb',\n",
      " 'RatingValue': 4,\n",
      " 'RightToReply': '',\n",
      " 'SchemeType': 'FHRS',\n",
      " '_id': ObjectId('65ccff81e29db7cb8cbc2df9'),\n",
      " 'geocode': {'latitude': 51.086058, 'longitude': 1.196408},\n",
      " 'links': [{'href': 'https://api.ratings.food.gov.uk/establishments/647177',\n",
      "            'rel': 'self'}],\n",
      " 'meta': {'dataSource': None,\n",
      "          'extractDate': '0001-01-01T00:00:00',\n",
      "          'itemCount': 0,\n",
      "          'pageNumber': 0,\n",
      "          'pageSize': 0,\n",
      "          'returncode': None,\n",
      "          'totalCount': 0,\n",
      "          'totalPages': 0},\n",
      " 'scores': {'ConfidenceInManagement': 10, 'Hygiene': 5, 'Structural': 5}}\n"
     ]
    }
   ],
   "source": [
    "# review a document in the establishments collection\n",
    "pprint(db.establishments.find_one())"
   ]
  },
  {
   "cell_type": "markdown",
   "id": "d5671434",
   "metadata": {},
   "source": [
    "## Part 2: Update the Database"
   ]
  },
  {
   "cell_type": "markdown",
   "id": "5b1e7987",
   "metadata": {},
   "source": [
    "#### 1. An exciting new halal restaurant just opened in Greenwich, but hasn't been rated yet. \n",
    "#### The magazine has asked you to include it in your analysis. Add the following restaurant \n",
    "#### \"Penang Flavours Halal Restaurant\" to the database."
   ]
  },
  {
   "cell_type": "code",
   "execution_count": 14,
   "id": "a6e5cece",
   "metadata": {},
   "outputs": [
    {
     "data": {
      "text/plain": [
       "<pymongo.results.InsertOneResult at 0x1b63321a9c0>"
      ]
     },
     "execution_count": 14,
     "metadata": {},
     "output_type": "execute_result"
    }
   ],
   "source": [
    "# Insert the new restaurant into the collection\n",
    "db.establishments.insert_one(\n",
    "    {\n",
    "        'BusinessName': 'Penang Flavours Halal Restaurant',\n",
    "        'BusinessType': 'Restaurant/Cafe/Canteen',\n",
    "        'AddressLine1': 'Penang Flavours Halal Restaurant',\n",
    "        \"AddressLine2\": \"146 Plumstead Rd\",\n",
    "        \"AddressLine3\": \"London\",\n",
    "        \"AddressLine4\": \"\",\n",
    "        \"PostCode\": \"SE18 7DY\",\n",
    "        \"Phone\": \"\",\n",
    "        \"LocalAuthorityCode\": \"511\",\n",
    "        \"LocalAuthorityWebSite\": \"http://www.royalgreenwich.gov.uk\",\n",
    "        \"LocalAuthorityEmailAddress\": \"health@royalgreenwich.gov.uk\",\n",
    "        \"scores\": {\n",
    "            \"Hygiene\": \"\",\n",
    "            \"Structural\": \"\",\n",
    "            \"ConfidenceInManagement\": \"\"\n",
    "        },\n",
    "        \"SchemeType\": \"FHRS\",\n",
    "        \"geocode\": {\n",
    "            \"longitude\": \"0.08384000\",\n",
    "            \"latitude\": \"51.49014200\"\n",
    "        },\n",
    "        \"RightToReply\": \"\",\n",
    "        \"Distance\": 4623.9723280747176,\n",
    "        \"NewRatingPending\": True\n",
    "       \n",
    "    }\n",
    ")"
   ]
  },
  {
   "cell_type": "markdown",
   "id": "3b2d9531",
   "metadata": {},
   "source": [
    "#### Confirmed that the Penang Flavours Halal Restaurant had been created."
   ]
  },
  {
   "cell_type": "code",
   "execution_count": 15,
   "id": "63bb10f9",
   "metadata": {},
   "outputs": [
    {
     "name": "stdout",
     "output_type": "stream",
     "text": [
      "Restaurant found:\n",
      "{'_id': ObjectId('65d1a4645f869d714e61a46b'), 'BusinessName': 'Penang Flavours Halal Restaurant', 'BusinessType': 'Restaurant/Cafe/Canteen', 'AddressLine2': 'Greenwich', 'geocode': {'latitude': None, 'longitude': None}, 'RatingValue': None}\n"
     ]
    }
   ],
   "source": [
    "# Check that the new restaurant was inserted\n",
    "filter_query = {'BusinessName': 'Penang Flavours Halal Restaurant'}\n",
    "\n",
    "# Find the restaurant document in the collection\n",
    "restaurant = establishments.find_one(filter_query)\n",
    "\n",
    "# Check if the restaurant document was found\n",
    "if restaurant:\n",
    "    print(\"Restaurant found:\")\n",
    "    print(restaurant)\n",
    "else:\n",
    "    print(\"Restaurant not found.\")"
   ]
  },
  {
   "cell_type": "markdown",
   "id": "103d5a5c",
   "metadata": {},
   "source": [
    "#### 2. Find the BusinessTypeID for \"Restaurant/Cafe/Canteen\" and return only the `BusinessTypeID` and `BusinessType` fields."
   ]
  },
  {
   "cell_type": "code",
   "execution_count": 25,
   "id": "93c63829",
   "metadata": {},
   "outputs": [
    {
     "name": "stdout",
     "output_type": "stream",
     "text": [
      "BusinessTypeID of a Restaurant/Cafe/Canteen:\n",
      "1\n"
     ]
    }
   ],
   "source": [
    "# Find the BusinessTypeID for \"Restaurant/Cafe/Canteen\" and return only the BusinessTypeID and BusinessType fields\n",
    "# Define the filter to find a restaurant with BusinessType 'Restaurant/Cafe/Canteen'\n",
    "filter_query = {'BusinessType': 'Restaurant/Cafe/Canteen'}\n",
    "\n",
    "# Find one restaurant matching the filter\n",
    "restaurant = establishments.find_one(filter_query)\n",
    "\n",
    "# Check if the restaurant document was found\n",
    "if restaurant:\n",
    "    # Retrieve and print the BusinessTypeID\n",
    "    business_type_id = restaurant.get('BusinessTypeID')\n",
    "    if business_type_id:\n",
    "        print(\"BusinessTypeID of a Restaurant/Cafe/Canteen:\")\n",
    "        print(business_type_id)\n",
    "    else:\n",
    "        print(\"BusinessTypeID not found for the Restaurant/Cafe/Canteen.\")\n",
    "else:\n",
    "    print(\"No restaurant with BusinessType 'Restaurant/Cafe/Canteen' found.\")"
   ]
  },
  {
   "cell_type": "markdown",
   "id": "5df5edcb",
   "metadata": {},
   "source": [
    "#### 3. Update the new restaurant with the `BusinessTypeID` you found."
   ]
  },
  {
   "cell_type": "code",
   "execution_count": 26,
   "id": "7f599f3d",
   "metadata": {},
   "outputs": [
    {
     "data": {
      "text/plain": [
       "<pymongo.results.UpdateResult at 0x1c5f8d1c9c0>"
      ]
     },
     "execution_count": 26,
     "metadata": {},
     "output_type": "execute_result"
    }
   ],
   "source": [
    "# Update the new restaurant with the correct BusinessTypeID\n",
    "\n",
    "db.establishments.update_one(\n",
    "    {'BusinessName': 'Penang Flavours'},\n",
    "    {'$set':\n",
    "        {'BusinessTypeID': 1}\n",
    "     }\n",
    ")\n"
   ]
  },
  {
   "cell_type": "code",
   "execution_count": 27,
   "id": "a6ad16f7",
   "metadata": {},
   "outputs": [
    {
     "name": "stdout",
     "output_type": "stream",
     "text": [
      "The document was successfully updated. BusinessTypeID = 1 has been added.\n"
     ]
    }
   ],
   "source": [
    "# Confirm that the new restaurant was \n",
    "\n",
    "updated_document = establishments.find_one({'BusinessName': 'Penang Flavours Halal Restaurant'})\n",
    "\n",
    "if updated_document and updated_document.get(\"BusinessTypeID\") == 1:\n",
    "    print(\"The document was successfully updated. BusinessTypeID = 1 has been added.\")\n",
    "else:\n",
    "    print(\"The document was not updated or BusinessTypeID = 1 was not added.\")\n"
   ]
  },
  {
   "cell_type": "markdown",
   "id": "0621dba9",
   "metadata": {},
   "source": [
    "### 4. The magazine is not interested in any establishments in Dover, so check how many documents contain the Dover Local Authority. Then, remove any establishments within the Dover Local Authority \n",
    "\n",
    "#### If the answer is count it means that the all establishements in Dover were deleted."
   ]
  },
  {
   "cell_type": "code",
   "execution_count": 30,
   "id": "768474a6",
   "metadata": {},
   "outputs": [
    {
     "name": "stdout",
     "output_type": "stream",
     "text": [
      "The number of documents with LocalAuthorityName equal to \"Dover\" is: [count]\n"
     ]
    }
   ],
   "source": [
    "# Find how many documents have LocalAuthorityName as \"Dover\"\n",
    "pipeline = [\n",
    "    {\"$match\": {\"LocalAuthorityName\": \"Dover\"}},\n",
    "    {\"$group\": {\"_id\": None, \"count\": {\"$sum\": 1}}}\n",
    "]\n",
    "\n",
    "# Execute the aggregation pipeline\n",
    "result = list(establishments.aggregate(pipeline))\n",
    "\n",
    "# Extract the count from the result\n",
    "count = result[0]['count'] if result else 0\n",
    "\n",
    "print(f'The number of documents with LocalAuthorityName equal to \"Dover\" is: [count]')\n"
   ]
  },
  {
   "cell_type": "markdown",
   "id": "be27a024",
   "metadata": {},
   "source": [
    "#### Confirmed that all documents were LocalAuthauthorityName were deleted."
   ]
  },
  {
   "cell_type": "code",
   "execution_count": 31,
   "id": "a11d5f1b",
   "metadata": {},
   "outputs": [
    {
     "name": "stdout",
     "output_type": "stream",
     "text": [
      "0 documents with LocalAuthorityName equal to Dover have been deleted.\n"
     ]
    }
   ],
   "source": [
    "# Delete all documents where LocalAuthorityName is \"Dover\"\n",
    "# Delete documents where 'LocalAuthorityName' is 'Dover'\n",
    "delete_result = establishments.delete_many({\"LocalAuthorityName\": \"Dover\"})\n",
    "\n",
    "# Get the number of deleted documents\n",
    "deleted_count = delete_result.deleted_count\n",
    "\n",
    "print(f'{deleted_count} documents with LocalAuthorityName equal to Dover have been deleted.')"
   ]
  },
  {
   "cell_type": "code",
   "execution_count": 32,
   "id": "2a51aba0",
   "metadata": {},
   "outputs": [
    {
     "name": "stdout",
     "output_type": "stream",
     "text": [
      "There are no remaining documents with LocalAuthorityName equal to Dover.\n"
     ]
    }
   ],
   "source": [
    "# Check if any remaining documents include Dover\n",
    "remaining_count = establishments.count_documents({\"LocalAuthorityName\": \"Dover\"})\n",
    "\n",
    "if remaining_count > 0:\n",
    "    print(f'There are still {remaining_count} documents with LocalAuthorityName equal to Dover.')\n",
    "else:\n",
    "    print('There are no remaining documents with LocalAuthorityName equal to Dover.')"
   ]
  },
  {
   "cell_type": "code",
   "execution_count": 33,
   "id": "8c356f7b",
   "metadata": {},
   "outputs": [
    {
     "name": "stdout",
     "output_type": "stream",
     "text": [
      "There are still remaining documents in the collection.\n"
     ]
    }
   ],
   "source": [
    "# Check that other documents remain with 'find_one'\n",
    "remaining_document = establishments.find_one({})\n",
    "\n",
    "if remaining_document:\n",
    "    print('There are still remaining documents in the collection.')\n",
    "else:\n",
    "    print('There are no remaining documents in the collection.')"
   ]
  },
  {
   "cell_type": "markdown",
   "id": "2b2a0026",
   "metadata": {},
   "source": [
    "### 5. Some of the number values are stored as strings, when they should be stored as numbers."
   ]
  },
  {
   "cell_type": "markdown",
   "id": "a68bb65b",
   "metadata": {},
   "source": [
    "#### Use `update_many` to convert `latitude` and `longitude` to decimal numbers."
   ]
  },
  {
   "cell_type": "code",
   "execution_count": 34,
   "id": "fd4112ce",
   "metadata": {},
   "outputs": [
    {
     "name": "stdout",
     "output_type": "stream",
     "text": [
      "Conversion completed successfully.\n"
     ]
    }
   ],
   "source": [
    "# change datatype of Lat and Long from String to Double.\n",
    "collection = db.establishments\n",
    "\n",
    "# Update the documents to convert latitude and longitude strings to floats\n",
    "collection.update_many({}, [\n",
    "    {\"$set\": {\n",
    "        \"geocode.latitude\": {\"$toDouble\": \"$geocode.latitude\"},\n",
    "        \"geocode.longitude\": {\"$toDouble\": \"$geocode.longitude\"}\n",
    "    }}\n",
    "])\n",
    "\n",
    "print(\"Conversion completed successfully.\")"
   ]
  },
  {
   "cell_type": "markdown",
   "id": "5261c9de",
   "metadata": {},
   "source": [
    "### Use `update_many` to convert `RatingValue` to integer numbers."
   ]
  },
  {
   "cell_type": "code",
   "execution_count": 35,
   "id": "92524ccc",
   "metadata": {},
   "outputs": [
    {
     "name": "stdout",
     "output_type": "stream",
     "text": [
      "Conversion completed successfully.\n"
     ]
    }
   ],
   "source": [
    "# change datatype of RatingValue from string to Integer.\n",
    "collection = db.establishments\n",
    "\n",
    "# Update the documents to convert the 'RatingValue' field to float\n",
    "collection.update_many({}, [\n",
    "    {\"$set\": {\n",
    "        \"RatingValue\": {\"$toInt\": \"$RatingValue\"}\n",
    "    }}\n",
    "])\n",
    "\n",
    "print(\"Conversion completed successfully.\")"
   ]
  },
  {
   "cell_type": "markdown",
   "id": "781f754b",
   "metadata": {},
   "source": [
    "### Confirm that both data type were update successfully."
   ]
  },
  {
   "cell_type": "code",
   "execution_count": 36,
   "id": "0deacaf9",
   "metadata": {},
   "outputs": [
    {
     "name": "stdout",
     "output_type": "stream",
     "text": [
      "Latitude: 51.086058 Type: <class 'float'>\n",
      "Longitude: 1.196408 Type: <class 'float'>\n",
      "RatingValue: 4 Type: <class 'int'>\n"
     ]
    }
   ],
   "source": [
    "# Confirm that both datatype changes were successful.\n",
    "\n",
    "collection = db.establishments\n",
    "\n",
    "# Fetch one document from the collection\n",
    "document = collection.find_one()\n",
    "\n",
    "# Extract latitude, longitude, and RatingValue\n",
    "latitude = document['geocode']['latitude']\n",
    "longitude = document['geocode']['longitude']\n",
    "rating_value = document.get('RatingValue', None)\n",
    "\n",
    "# Print latitude, longitude, and RatingValue along with their data types\n",
    "print(\"Latitude:\", latitude, \"Type:\", type(latitude))\n",
    "print(\"Longitude:\", longitude, \"Type:\", type(longitude))\n",
    "print(\"RatingValue:\", rating_value, \"Type:\", type(rating_value) if rating_value is not None else \"N/A\")"
   ]
  },
  {
   "cell_type": "code",
   "execution_count": null,
   "id": "16dc3967",
   "metadata": {},
   "outputs": [],
   "source": []
  },
  {
   "cell_type": "code",
   "execution_count": null,
   "id": "c5ff811b",
   "metadata": {},
   "outputs": [],
   "source": []
  }
 ],
 "metadata": {
  "kernelspec": {
   "display_name": "Python 3 (ipykernel)",
   "language": "python",
   "name": "python3"
  },
  "language_info": {
   "codemirror_mode": {
    "name": "ipython",
    "version": 3
   },
   "file_extension": ".py",
   "mimetype": "text/x-python",
   "name": "python",
   "nbconvert_exporter": "python",
   "pygments_lexer": "ipython3",
   "version": "3.11.5"
  }
 },
 "nbformat": 4,
 "nbformat_minor": 5
}
